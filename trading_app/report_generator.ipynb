{
 "cells": [
  {
   "cell_type": "code",
   "execution_count": 48,
   "id": "initial_id",
   "metadata": {
    "collapsed": true,
    "ExecuteTime": {
     "end_time": "2023-12-16T02:56:46.808964Z",
     "start_time": "2023-12-16T02:56:46.801687Z"
    }
   },
   "outputs": [],
   "source": [
    "import os\n",
    "import json\n",
    "import matplotlib.pyplot as plt\n",
    "import pandas as pd\n",
    "import glob\n",
    "import re\n",
    "from datetime import datetime"
   ]
  },
  {
   "cell_type": "code",
   "execution_count": 55,
   "outputs": [],
   "source": [
    "# todo: transform into a sqlalchemy method which dumps the data into a table\n",
    "\n",
    "def get_json_files(strategy_name):\n",
    "    # Define the directory path for the strategy\n",
    "    strategy_dir = os.path.join('../strategy', strategy_name, 'backtests')\n",
    "    # todo: replace for strategy in production\n",
    "    # strategy_dir = os.path.join('/strategy', strategy_name, 'backtests')\n",
    "    \n",
    "    # Get all directories under the strategy directory\n",
    "    dirs = [d for d in os.listdir(strategy_dir) if os.path.isdir(os.path.join(strategy_dir, d))]\n",
    "    # Sort the directories by date\n",
    "    dirs.sort(key=lambda x: datetime.strptime(x, '%Y-%m-%d_%H-%M-%S'), reverse=True)\n",
    "    # Get the newest directory\n",
    "    newest_dir = dirs[0]\n",
    "    # Use glob to find the JSON file that matches the pattern in the newest directory\n",
    "    json_files = glob.glob(os.path.join(strategy_dir, newest_dir, '*.json'))\n",
    "    # Define the pattern for the JSON file\n",
    "    pattern = re.compile(r'\\d{10}\\.json$')\n",
    "    # Filter the json_files list to only include files that match the pattern\n",
    "    json_files = [f for f in json_files if pattern.match(os.path.basename(f))]\n",
    "    # Since we know there's only one file that matches the pattern, we can just return the first item in the list\n",
    "    return json_files[0]"
   ],
   "metadata": {
    "collapsed": false,
    "ExecuteTime": {
     "end_time": "2023-12-16T02:59:00.862971Z",
     "start_time": "2023-12-16T02:59:00.855818Z"
    }
   },
   "id": "f72ce1814dddde50"
  },
  {
   "cell_type": "code",
   "execution_count": 56,
   "outputs": [],
   "source": [
    "file_dir = get_json_files('ib_loader')"
   ],
   "metadata": {
    "collapsed": false,
    "ExecuteTime": {
     "end_time": "2023-12-16T02:59:01.222565Z",
     "start_time": "2023-12-16T02:59:01.217512Z"
    }
   },
   "id": "8d8f3349613d7d60"
  },
  {
   "cell_type": "code",
   "execution_count": 72,
   "outputs": [
    {
     "name": "stdout",
     "output_type": "stream",
     "text": [
      "Total Trades: 1\n",
      "Average Win: 0%\n",
      "Average Loss: 0%\n",
      "Compounding Annual Return: 2.246%\n",
      "Drawdown: 15.800%\n",
      "Expectancy: 0\n",
      "Net Profit: 2.053%\n",
      "Sharpe Ratio: -0.099\n",
      "Sortino Ratio: -0.12\n",
      "Probabilistic Sharpe Ratio: 17.252%\n",
      "Loss Rate: 0%\n",
      "Win Rate: 0%\n",
      "Profit-Loss Ratio: 0\n",
      "Alpha: 0.033\n",
      "Beta: 1.235\n",
      "Annual Standard Deviation: 0.186\n",
      "Annual Variance: 0.035\n",
      "Information Ratio: 0.153\n",
      "Tracking Error: 0.15\n",
      "Treynor Ratio: -0.015\n",
      "Total Fees: $797.34\n",
      "Estimated Strategy Capacity: $0\n",
      "Lowest Capacity Asset: BHP.IBData 2S\n",
      "Portfolio Turnover: 0.29%\n"
     ]
    }
   ],
   "source": [
    "# todo: transform into a sqlalchemy method which dumps the data into a table\n",
    "\n",
    "# testing\n",
    "def print_first_nodes(json_file):\n",
    "    # Open and load the JSON file\n",
    "    with open(json_file, 'r') as f:\n",
    "        data = json.load(f)\n",
    "\n",
    "    # Print the first level keys (nodes) of the JSON object\n",
    "    for key in data.keys():\n",
    "        if key == 'Statistics' or key == 'RunTimeStatistics':\n",
    "            for sub_key in data[key].items():\n",
    "                print(f'{sub_key[0]}: {sub_key[1]}')\n",
    "        \n",
    "            \n",
    "\n",
    "# Use the function\n",
    "print_first_nodes(file_dir)"
   ],
   "metadata": {
    "collapsed": false,
    "ExecuteTime": {
     "end_time": "2023-12-16T03:15:22.385973Z",
     "start_time": "2023-12-16T03:15:22.380899Z"
    }
   },
   "id": "491b59feb860fe41"
  },
  {
   "cell_type": "code",
   "execution_count": 66,
   "outputs": [],
   "source": [
    "def parse_json(json_file):\n",
    "    # Open and load the JSON file\n",
    "    with open(json_file, 'r') as f:\n",
    "        data = json.load(f)\n",
    "\n",
    "    # Extract the \"RollingWindow\" data\n",
    "    rolling_window_data = data['RollingWindow']\n",
    "\n",
    "    # Initialize a list to store the data for each period\n",
    "    periods_data = []\n",
    "\n",
    "    # For each period in the \"RollingWindow\" data\n",
    "    for period, period_data in rolling_window_data.items():\n",
    "        # Extract the \"TradeStatistics\" and \"PortfolioStatistics\" data\n",
    "        trade_stats = period_data['TradeStatistics']\n",
    "        portfolio_stats = period_data['PortfolioStatistics']\n",
    "\n",
    "        # Combine the \"TradeStatistics\" and \"PortfolioStatistics\" data\n",
    "        combined_data = {**trade_stats, **portfolio_stats}\n",
    "\n",
    "        # Add the period as a new key-value pair\n",
    "        combined_data['Period'] = period\n",
    "\n",
    "        # Add the combined data to the list of periods data\n",
    "        periods_data.append(combined_data)\n",
    "\n",
    "    # Create a DataFrame from the periods data\n",
    "    df = pd.DataFrame(periods_data)\n",
    "\n",
    "    return df"
   ],
   "metadata": {
    "collapsed": false,
    "ExecuteTime": {
     "end_time": "2023-12-16T03:09:18.456506Z",
     "start_time": "2023-12-16T03:09:18.455460Z"
    }
   },
   "id": "7aea7d2cb8123a3"
  },
  {
   "cell_type": "code",
   "execution_count": null,
   "outputs": [],
   "source": [],
   "metadata": {
    "collapsed": false
   },
   "id": "48ec16d68308a8c8"
  }
 ],
 "metadata": {
  "kernelspec": {
   "display_name": "Python 3",
   "language": "python",
   "name": "python3"
  },
  "language_info": {
   "codemirror_mode": {
    "name": "ipython",
    "version": 2
   },
   "file_extension": ".py",
   "mimetype": "text/x-python",
   "name": "python",
   "nbconvert_exporter": "python",
   "pygments_lexer": "ipython2",
   "version": "2.7.6"
  }
 },
 "nbformat": 4,
 "nbformat_minor": 5
}
